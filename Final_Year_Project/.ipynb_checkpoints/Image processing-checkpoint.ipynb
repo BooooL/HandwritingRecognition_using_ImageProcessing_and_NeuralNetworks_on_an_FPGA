{
 "cells": [
  {
   "cell_type": "markdown",
   "metadata": {},
   "source": [
    "##System check"
   ]
  },
  {
   "cell_type": "code",
   "execution_count": 224,
   "metadata": {
    "collapsed": false
   },
   "outputs": [],
   "source": [
    "import sys\n",
    "osx = sys.platform"
   ]
  },
  {
   "cell_type": "markdown",
   "metadata": {},
   "source": [
    "##Directory change"
   ]
  },
  {
   "cell_type": "code",
   "execution_count": 228,
   "metadata": {
    "collapsed": false
   },
   "outputs": [
    {
     "data": {
      "text/plain": [
       "'C:\\\\Users\\\\dhrre\\\\Desktop\\\\Projects\\\\Handwriting_recognition_using_neural_nets_on_FPGA\\\\Image processing'"
      ]
     },
     "execution_count": 228,
     "metadata": {},
     "output_type": "execute_result"
    }
   ],
   "source": [
    "import os\n",
    "if(osx == \"win32\"):\n",
    "    os.chdir('C:\\Users\\dhrre\\Desktop\\Projects\\Handwriting_recognition_using_neural_nets_on_FPGA\\Image processing')\n",
    "else:\n",
    "    print(\"OSX ERROR\")\n",
    "os.getcwd()"
   ]
  },
  {
   "cell_type": "markdown",
   "metadata": {},
   "source": [
    "##Imports and setup"
   ]
  },
  {
   "cell_type": "code",
   "execution_count": 205,
   "metadata": {
    "collapsed": true
   },
   "outputs": [],
   "source": [
    "import numpy as np\n",
    "from IPython.display import Image\n",
    "import matplotlib\n",
    "from matplotlib.pyplot import imshow\n",
    "from PIL import Image"
   ]
  },
  {
   "cell_type": "markdown",
   "metadata": {},
   "source": [
    "##image_processing class"
   ]
  },
  {
   "cell_type": "code",
   "execution_count": 206,
   "metadata": {
    "collapsed": true
   },
   "outputs": [],
   "source": [
    "class image_processing() : \n",
    "    \n",
    "    def __init__(self) : \n",
    "        pass\n",
    "    \n",
    "    def convolution(self,image,kernel) : \n",
    "        scaling_factor = kernel[0]\n",
    "        kernel = kernel[1]\n",
    "        image_width = len(image[0])\n",
    "        image_height = len(image)\n",
    "        kernel_width = len(kernel[0])\n",
    "        kernel_height = len(kernel)\n",
    "\n",
    "        return_image = []\n",
    "\n",
    "        def element_wise_matrix_multiplication(matrix1,matrix2,scaling_factor=1) :\n",
    "            return_value = 0\n",
    "            for m1_row,m2_row in zip(matrix1,matrix2) :\n",
    "                for m1_pixel,m2_pixel in zip(m1_row,m2_row) :\n",
    "                    return_value += int(m1_pixel)*int(m2_pixel)\n",
    "            return np.uint8(return_value/scaling_factor)\n",
    "                \n",
    "        for row in range(image_height - kernel_height + 1) :\n",
    "            return_image.append([])\n",
    "            for pixel in range(image_width - kernel_width + 1) :\n",
    "                image_slice = [[image[i,j] for j in range(pixel,pixel + kernel_width)] for i in range(row,row + kernel_height)]\n",
    "                #print(image_slice)\n",
    "                return_image[-1].append(element_wise_matrix_multiplication(image_slice,kernel,scaling_factor))\n",
    "        return np.array(return_image)\n",
    "    \n",
    "    def rgb_to_greyscale(self,image) : \n",
    "        return_image = []\n",
    "        for row in image : \n",
    "            return_image.append([])\n",
    "            for pixel in row :\n",
    "                try:\n",
    "                    [r,g,b,s] = pixel\n",
    "                except ValueError:\n",
    "                    [r,g,b] = pixel\n",
    "                return_image[-1].append(np.uint8((int(r)+int(g)+int(b))/3))\n",
    "        return np.array(return_image)"
   ]
  },
  {
   "cell_type": "markdown",
   "metadata": {},
   "source": [
    "##Display function"
   ]
  },
  {
   "cell_type": "code",
   "execution_count": 207,
   "metadata": {
    "collapsed": true
   },
   "outputs": [],
   "source": [
    "def display(image) : \n",
    "    if type(image) is type([]) : \n",
    "#         print(image)\n",
    "#         print(type(image))\n",
    "        i=211\n",
    "        for images in image:\n",
    "            matplotlib.pyplot.subplot(i)\n",
    "            imshow(images,cmap=matplotlib.pyplot.get_cmap('gray'))\n",
    "            i = i+1\n",
    "    else : \n",
    "        % matplotlib inline\n",
    "        imshow(image,cmap=matplotlib.pyplot.get_cmap('gray'))"
   ]
  },
  {
   "cell_type": "markdown",
   "metadata": {},
   "source": [
    "##original image display"
   ]
  },
  {
   "cell_type": "code",
   "execution_count": 208,
   "metadata": {
    "collapsed": false
   },
   "outputs": [
    {
     "data": {
      "image/png": "[encoded data removed]",
      "text/plain": [
       "<matplotlib.figure.Figure at 0xea26fd0>"
      ]
     },
     "metadata": {},
     "output_type": "display_data"
    }
   ],
   "source": [
    "image = np.array(Image.open('sample images/sample_image.jpg')) \n",
    "\n",
    "#imshow(image,cmap=matplotlib.pyplot.get_cmap('grey'))\n",
    "impr = image_processing()\n",
    "image = impr.rgb_to_greyscale(image)\n",
    "\n",
    "display(image)\n"
   ]
  },
  {
   "cell_type": "markdown",
   "metadata": {},
   "source": [
    "##Smoothened image display"
   ]
  },
  {
   "cell_type": "code",
   "execution_count": 209,
   "metadata": {
    "collapsed": false
   },
   "outputs": [
    {
     "data": {
      "image/png": "[encoded data removed]",
      "text/plain": [
       "<matplotlib.figure.Figure at 0xddbae48>"
      ]
     },
     "metadata": {},
     "output_type": "display_data"
    }
   ],
   "source": [
    "def gaussian_filter(self,image) : \n",
    "    kernel = [273,[[1,4 ,7 ,4 ,1],\n",
    "                [4,16,26,16,4],\n",
    "                [7,26,41,26,7],\n",
    "                [4,16,26,16,4],\n",
    "                [1,4 ,7 ,4 ,1]]]\n",
    "    processed_image = self.convolution(image,kernel)\n",
    "    return processed_image\n",
    "\n",
    "image_processing.gaussian_filter = gaussian_filter\n",
    "impr = image_processing()\n",
    "im = impr.gaussian_filter(image)\n",
    "display(im)\n",
    "image = im"
   ]
  },
  {
   "cell_type": "markdown",
   "metadata": {},
   "source": [
    "##vertical edge detection black to white"
   ]
  },
  {
   "cell_type": "code",
   "execution_count": 210,
   "metadata": {
    "collapsed": false
   },
   "outputs": [
    {
     "data": {
      "image/png": "[encoded data removed]",
      "text/plain": [
       "<matplotlib.figure.Figure at 0xddbaeb8>"
      ]
     },
     "metadata": {},
     "output_type": "display_data"
    }
   ],
   "source": [
    "def vertical_edge_detection(self,image) : \n",
    "    kernel = [1,[[-1,0,1],\n",
    "                 [-1,0,1],\n",
    "                 [-1,0,1]]]\n",
    "    processed_image = self.convolution(image,kernel)\n",
    "    return processed_image\n",
    "    \n",
    "image_processing.vertical_edge_detection = vertical_edge_detection\n",
    "impr = image_processing()\n",
    "im = impr.vertical_edge_detection(image)\n",
    "display(im)"
   ]
  },
  {
   "cell_type": "markdown",
   "metadata": {},
   "source": [
    "##horizontal edge detection"
   ]
  },
  {
   "cell_type": "code",
   "execution_count": 211,
   "metadata": {
    "collapsed": false
   },
   "outputs": [
    {
     "data": {
      "image/png": "[encoded data removed]",
      "text/plain": [
       "<matplotlib.figure.Figure at 0xe3d9588>"
      ]
     },
     "metadata": {},
     "output_type": "display_data"
    }
   ],
   "source": [
    "def horizontal_edge_detection(self,image) : \n",
    "    kernel = [1,[[-1,-1,-1],\n",
    "                 [ 0, 0, 0],\n",
    "                 [ 1, 1, 1]]]\n",
    "    processed_image = self.convolution(image,kernel)\n",
    "    return processed_image\n",
    "    \n",
    "image_processing.horizontal_edge_detection = horizontal_edge_detection\n",
    "impr = image_processing()\n",
    "im = impr.horizontal_edge_detection(image)\n",
    "display(im)"
   ]
  },
  {
   "cell_type": "markdown",
   "metadata": {},
   "source": [
    "##horizontal plus vertical edge detection"
   ]
  },
  {
   "cell_type": "code",
   "execution_count": 212,
   "metadata": {
    "collapsed": false
   },
   "outputs": [
    {
     "data": {
      "image/png": "[encoded data removed]",
      "text/plain": [
       "<matplotlib.figure.Figure at 0xae5c518>"
      ]
     },
     "metadata": {},
     "output_type": "display_data"
    }
   ],
   "source": [
    "def horizontal_plus_vertical_edge_detection(self,image) :\n",
    "    horizontal = self.horizontal_edge_detection(image)\n",
    "    vertical = self.vertical_edge_detection(image)\n",
    "    rows = len(horizontal)\n",
    "    columns = len(horizontal[0])\n",
    "    \n",
    "    return_array = []\n",
    "    for i in range(rows) :\n",
    "        return_array.append([])\n",
    "        for j in range(columns) : \n",
    "            return_array[-1].append(np.uint8(int(horizontal[i,j]) + int(vertical[i,j])))\n",
    "    return np.array(return_array)\n",
    "\n",
    "image_processing.horizontal_plus_vertical_edge_detection = horizontal_plus_vertical_edge_detection\n",
    "impr = image_processing()\n",
    "im = Image.fromarray(impr.horizontal_plus_vertical_edge_detection(image))\n",
    "display(im)"
   ]
  },
  {
   "cell_type": "markdown",
   "metadata": {},
   "source": [
    "##gaussian blur"
   ]
  },
  {
   "cell_type": "code",
   "execution_count": 220,
   "metadata": {
    "collapsed": false
   },
   "outputs": [
    {
     "data": {
      "image/png": "[encoded data removed]",
      "text/plain": [
       "<matplotlib.figure.Figure at 0xbc102e8>"
      ]
     },
     "metadata": {},
     "output_type": "display_data"
    }
   ],
   "source": [
    "def gaussian_filter(self,image) : \n",
    "    kernel = [273,[[1,4 ,7 ,4 ,1],\n",
    "                [4,16,26,16,4],\n",
    "                [7,26,41,26,7],\n",
    "                [4,16,26,16,4],\n",
    "                [1,4 ,7 ,4 ,1]]]\n",
    "    processed_image = self.convolution(image,kernel)\n",
    "    return processed_image\n",
    "\n",
    "image_processing.gaussian_filter = gaussian_filter\n",
    "impr = image_processing()\n",
    "im = impr.gaussian_filter(image)\n",
    "display(im)"
   ]
  },
  {
   "cell_type": "markdown",
   "metadata": {},
   "source": [
    "## Full convolution TRY"
   ]
  },
  {
   "cell_type": "code",
   "execution_count": 240,
   "metadata": {
    "collapsed": false
   },
   "outputs": [
    {
     "name": "stdout",
     "output_type": "stream",
     "text": [
      "[[1, [[-1, 0, 1], [-1, 0, 1], [-1, 0, 1]]], [1, [[1, 0, -1], [1, 0, -1], [1, 0, -1]]]]\n",
      "zyaada\n"
     ]
    },
    {
     "data": {
      "image/png": "[encoded data removed]",
      "text/plain": [
       "<matplotlib.figure.Figure at 0xa992860>"
      ]
     },
     "metadata": {},
     "output_type": "display_data"
    }
   ],
   "source": [
    "def full_convolution(self,image,*args):\n",
    "    all_kernels = list(args)\n",
    "    print(all_kernels)\n",
    "\n",
    "    image_width = len(image[0])\n",
    "    image_height = len(image)\n",
    "        \n",
    "    kernel = all_kernels[0]\n",
    "    \n",
    "    kernel = kernel[1]\n",
    "\n",
    "    scaling_factor = kernel[0]\n",
    "    kernel_width = len(kernel[0])\n",
    "    kernel_height = len(kernel)\n",
    "    kernel_specs = [scaling_factor,kernel_width,kernel_height]\n",
    "    \n",
    "    if(len(all_kernels) >1):\n",
    "        for kernel in range(all_kernels[1:]):\n",
    "            scaling_factor_ = kernel[0]\n",
    "            kernel_width_ = len(kernel[0])\n",
    "            kernel_height_ = len(kernel)\n",
    "            kernel_specs_ = [scaling_factor_,kernel_width_,kernel_height_]\n",
    "            if(kernel_specs == kernel_specs_):\n",
    "                flag = 1\n",
    "            else:\n",
    "                flag = 0\n",
    "                break\n",
    "        if flag = 0:\n",
    "            \n",
    "        \n",
    "    else:\n",
    "        print(\"just 1 kernel\")\n",
    "\n",
    "    def element_wise_matrix_multiplication(matrix1,matrix2,scaling_factor=1) :\n",
    "        return_value = 0\n",
    "        for m1_row,m2_row in zip(matrix1,matrix2) :\n",
    "            for m1_pixel,m2_pixel in zip(m1_row,m2_row) :\n",
    "                return_value += int(m1_pixel)*int(m2_pixel)\n",
    "        return np.uint8(return_value/scaling_factor)\n",
    "    \n",
    "    return_image = []\n",
    "    for row in range(image_height - kernel_height + 1) :\n",
    "        return_image.append([])\n",
    "        for pixel in range(image_width - kernel_width + 1) :\n",
    "            image_slice = [[image[i,j] for j in range(pixel,pixel + kernel_width)] for i in range(row,row + kernel_height)]\n",
    "            #print(image_slice)\n",
    "            return_image[-1].append(element_wise_matrix_multiplication(image_slice,kernel,scaling_factor))\n",
    "    return np.array(return_image)\n",
    "\n",
    "image_processing.full_convolution = full_convolution\n",
    "\n",
    "def vertical_edge_full_convolution(self,image) : \n",
    "    kernel1 = [1,[[-1,0,1],\n",
    "                 [-1,0,1],\n",
    "                 [-1,0,1]]]\n",
    "    kernel2 = [1,[[1,0,-1],\n",
    "                 [1,0,-1],\n",
    "                 [1,0,-1]]]\n",
    "    processed_image = self.full_convolution(image,kernel1)\n",
    "    return processed_image\n",
    "    \n",
    "image_processing.vertical_edge_full_convolution = vertical_edge_full_convolution\n",
    "impr = image_processing()\n",
    "im = impr.vertical_edge_full_convolution(image)\n",
    "display(im)"
   ]
  },
  {
   "cell_type": "code",
   "execution_count": null,
   "metadata": {
    "collapsed": true
   },
   "outputs": [],
   "source": []
  }
 ],
 "metadata": {
  "kernelspec": {
   "display_name": "Python 2",
   "language": "python",
   "name": "python2"
  },
  "language_info": {
   "codemirror_mode": {
    "name": "ipython",
    "version": 2
   },
   "file_extension": ".py",
   "mimetype": "text/x-python",
   "name": "python",
   "nbconvert_exporter": "python",
   "pygments_lexer": "ipython2",
   "version": "2.7.10"
  }
 },
 "nbformat": 4,
 "nbformat_minor": 0
}
